{
  "cells": [
    {
      "cell_type": "markdown",
      "metadata": {
        "id": "view-in-github",
        "colab_type": "text"
      },
      "source": [
        "<a href=\"https://colab.research.google.com/github/kyuenjpl/ARSET_XCO2/blob/main/OCO2_2018_csv_using_basemap_16_day_avg_using_OPENCV.ipynb\" target=\"_parent\"><img src=\"https://colab.research.google.com/assets/colab-badge.svg\" alt=\"Open In Colab\"/></a>"
      ]
    },
    {
      "cell_type": "markdown",
      "id": "306ec24e",
      "metadata": {
        "id": "306ec24e"
      },
      "source": [
        "# Code to create frames by 16-day average for EACH month"
      ]
    },
    {
      "cell_type": "code",
      "execution_count": null,
      "id": "a067ac6a",
      "metadata": {
        "id": "a067ac6a"
      },
      "outputs": [],
      "source": [
        "from mpl_toolkits.basemap import Basemap\n",
        "import numpy as np\n",
        "import pandas as pd\n",
        "import matplotlib.pyplot as plt\n",
        "import matplotlib\n",
        "import os \n",
        "# for GIF creation\n",
        "import PIL as plw \n",
        "\n",
        "# Animation and Graphics libraries\n",
        "import plotly.express as px\n",
        "import plotly\n",
        "import seaborn as sns; sns.set()"
      ]
    },
    {
      "cell_type": "markdown",
      "id": "a054616c",
      "metadata": {
        "id": "a054616c"
      },
      "source": [
        "### The code below will generate FRAMES of 16 day cycle for each months:\n",
        "* Example: For January: 1-16 and 17-31, same goes for every other months\n",
        "* the frames will be generated using library \"BASEMAP\""
      ]
    },
    {
      "cell_type": "code",
      "execution_count": null,
      "id": "884abd38",
      "metadata": {
        "id": "884abd38"
      },
      "outputs": [],
      "source": [
        "# create a function that creates a BASEMAP\n",
        "def map_by_month(data, year, month, file_num,  x=\"Longitude\",y= \"Latitude\", lon_min= -180, lon_max= 180, lat_min= -90, lat_max= 90, size_point= 5, frontier= False):\n",
        "     \n",
        "    # EG: getting the MAP region, here below coordinates gets the map for INDIA region only             \n",
        "    # x=\"Longitude\",y= \"Latitude\", lon_min= 60, lon_max= 100, lat_min= 0, lat_max= 50, size_point= 5, frontier= False):\n",
        "    \n",
        "    # Figure setting    \n",
        "    plt.figure(figsize= (40, 22), edgecolor='b')\n",
        "    \n",
        "    #PROJECTION 'cyl' -> Equilateral Diagram\n",
        "    m= Basemap(projection='cyl', resolution='l',\n",
        "               llcrnrlat= lat_min, urcrnrlat=lat_max, llcrnrlon= lon_min, urcrnrlon= lon_max)\n",
        "\n",
        "    m.scatter( data['Longitude'], data['Latitude'], c= data['Xco2'], cmap= plt.cm.turbo, s=30, #norm= normal,\n",
        "             marker='d')\n",
        "    \n",
        "    # Customizing the COLORBAR\n",
        "    cbar= plt.colorbar(orientation= \"horizontal\",\n",
        "                      format= \"%.0f\",\n",
        "                      extend=\"both\",\n",
        "                      shrink= 0.45,\n",
        "                      aspect= 10,\n",
        "                      pad= 0.04)\n",
        "    \n",
        "    cbar.set_label(label=\"XCO2 (parts per million)\", size= 40)\n",
        "    cbar.ax.tick_params(labelsize= 35)\n",
        "\n",
        "    # ADJUSTT the CBAR by year\n",
        "    cbar.set_ticks(np.linspace(390, 420, 5))\n",
        "    plt.clim(390, 420)\n",
        "    \n",
        "    # BORDER Lining\n",
        "    m.drawmapboundary(fill_color='black')\n",
        "    \n",
        "    # changing BACKGROUND color\n",
        "    m.fillcontinents(color='grey', alpha= 0.25)\n",
        "    plt.title('Orbiting Carbon Observatory- 2\\nAtmospheric Carbon Dioxide Concentration\\n'+str(year)+'-'+str(month), fontsize =50)\n",
        "    \n",
        "    # Saving the FRAMES into specified Directory\n",
        "    # Change the PATH for desired location\n",
        "    \n",
        "    path =\"frames\" +'/'\n",
        "    plt.savefig(path+str(file_num)+\"_\"+ str(month)+\"_\"+\".jpeg\",\n",
        "                dpi= 50)\n"
      ]
    },
    {
      "cell_type": "markdown",
      "id": "269c487d",
      "metadata": {
        "id": "269c487d"
      },
      "source": [
        "# DASK: To read multiple files(CSV)\n",
        "- NOTE: Multiple files should be on the same directory"
      ]
    },
    {
      "cell_type": "code",
      "execution_count": null,
      "id": "67bb8a1f",
      "metadata": {
        "id": "67bb8a1f"
      },
      "outputs": [],
      "source": [
        "from dask import dataframe as dd"
      ]
    },
    {
      "cell_type": "code",
      "execution_count": null,
      "id": "86ff551b",
      "metadata": {
        "id": "86ff551b"
      },
      "outputs": [],
      "source": [
        "# READ FILES using DASK dataframe\n",
        "dask_2018= dd.read_csv('/2018_csv/*.txt',\n",
        "                     parse_dates=['DateTime'])"
      ]
    },
    {
      "cell_type": "code",
      "execution_count": null,
      "id": "06dd59ea",
      "metadata": {
        "id": "06dd59ea",
        "outputId": "bcd53745-ca61-4875-acd9-a9a84a4d7f0d"
      },
      "outputs": [
        {
          "data": {
            "text/html": [
              "<div><strong>Dask DataFrame Structure:</strong></div>\n",
              "<div>\n",
              "<style scoped>\n",
              "    .dataframe tbody tr th:only-of-type {\n",
              "        vertical-align: middle;\n",
              "    }\n",
              "\n",
              "    .dataframe tbody tr th {\n",
              "        vertical-align: top;\n",
              "    }\n",
              "\n",
              "    .dataframe thead th {\n",
              "        text-align: right;\n",
              "    }\n",
              "</style>\n",
              "<table border=\"1\" class=\"dataframe\">\n",
              "  <thead>\n",
              "    <tr style=\"text-align: right;\">\n",
              "      <th></th>\n",
              "      <th>Xco2</th>\n",
              "      <th>Latitude</th>\n",
              "      <th>Longitude</th>\n",
              "      <th>quality_flag</th>\n",
              "      <th>DateTime</th>\n",
              "      <th>Year</th>\n",
              "      <th>Month</th>\n",
              "      <th>Day</th>\n",
              "    </tr>\n",
              "    <tr>\n",
              "      <th>npartitions=350</th>\n",
              "      <th></th>\n",
              "      <th></th>\n",
              "      <th></th>\n",
              "      <th></th>\n",
              "      <th></th>\n",
              "      <th></th>\n",
              "      <th></th>\n",
              "      <th></th>\n",
              "    </tr>\n",
              "  </thead>\n",
              "  <tbody>\n",
              "    <tr>\n",
              "      <th></th>\n",
              "      <td>float64</td>\n",
              "      <td>float64</td>\n",
              "      <td>float64</td>\n",
              "      <td>int64</td>\n",
              "      <td>datetime64[ns]</td>\n",
              "      <td>int64</td>\n",
              "      <td>int64</td>\n",
              "      <td>int64</td>\n",
              "    </tr>\n",
              "    <tr>\n",
              "      <th></th>\n",
              "      <td>...</td>\n",
              "      <td>...</td>\n",
              "      <td>...</td>\n",
              "      <td>...</td>\n",
              "      <td>...</td>\n",
              "      <td>...</td>\n",
              "      <td>...</td>\n",
              "      <td>...</td>\n",
              "    </tr>\n",
              "    <tr>\n",
              "      <th>...</th>\n",
              "      <td>...</td>\n",
              "      <td>...</td>\n",
              "      <td>...</td>\n",
              "      <td>...</td>\n",
              "      <td>...</td>\n",
              "      <td>...</td>\n",
              "      <td>...</td>\n",
              "      <td>...</td>\n",
              "    </tr>\n",
              "    <tr>\n",
              "      <th></th>\n",
              "      <td>...</td>\n",
              "      <td>...</td>\n",
              "      <td>...</td>\n",
              "      <td>...</td>\n",
              "      <td>...</td>\n",
              "      <td>...</td>\n",
              "      <td>...</td>\n",
              "      <td>...</td>\n",
              "    </tr>\n",
              "    <tr>\n",
              "      <th></th>\n",
              "      <td>...</td>\n",
              "      <td>...</td>\n",
              "      <td>...</td>\n",
              "      <td>...</td>\n",
              "      <td>...</td>\n",
              "      <td>...</td>\n",
              "      <td>...</td>\n",
              "      <td>...</td>\n",
              "    </tr>\n",
              "  </tbody>\n",
              "</table>\n",
              "</div>\n",
              "<div>Dask Name: read-csv, 350 tasks</div>"
            ],
            "text/plain": [
              "Dask DataFrame Structure:\n",
              "                    Xco2 Latitude Longitude quality_flag        DateTime   Year  Month    Day\n",
              "npartitions=350                                                                              \n",
              "                 float64  float64   float64        int64  datetime64[ns]  int64  int64  int64\n",
              "                     ...      ...       ...          ...             ...    ...    ...    ...\n",
              "...                  ...      ...       ...          ...             ...    ...    ...    ...\n",
              "                     ...      ...       ...          ...             ...    ...    ...    ...\n",
              "                     ...      ...       ...          ...             ...    ...    ...    ...\n",
              "Dask Name: read-csv, 350 tasks"
            ]
          },
          "execution_count": 5,
          "metadata": {},
          "output_type": "execute_result"
        }
      ],
      "source": [
        "dask_2018"
      ]
    },
    {
      "cell_type": "markdown",
      "id": "b5c81594",
      "metadata": {
        "id": "b5c81594"
      },
      "source": [
        "## Conv: dask dataframe to PANDAS\n",
        "- NOTE: this takes longer depending on the processor you are running"
      ]
    },
    {
      "cell_type": "code",
      "execution_count": null,
      "id": "3e761aee",
      "metadata": {
        "id": "3e761aee",
        "outputId": "350cada0-0ee7-4327-8958-ed264735d581"
      },
      "outputs": [
        {
          "name": "stdout",
          "output_type": "stream",
          "text": [
            "Wall time: 2min 31s\n"
          ]
        },
        {
          "data": {
            "text/plain": [
              "34611950"
            ]
          },
          "execution_count": 6,
          "metadata": {},
          "output_type": "execute_result"
        }
      ],
      "source": [
        "%%time\n",
        "df_2018= dask_2018.compute()\n",
        "len(df_2018)"
      ]
    },
    {
      "cell_type": "code",
      "execution_count": null,
      "id": "2a0da94a",
      "metadata": {
        "id": "2a0da94a",
        "outputId": "f2d51390-eb73-4d54-e2c1-df40ebb60e73"
      },
      "outputs": [
        {
          "data": {
            "text/html": [
              "<div>\n",
              "<style scoped>\n",
              "    .dataframe tbody tr th:only-of-type {\n",
              "        vertical-align: middle;\n",
              "    }\n",
              "\n",
              "    .dataframe tbody tr th {\n",
              "        vertical-align: top;\n",
              "    }\n",
              "\n",
              "    .dataframe thead th {\n",
              "        text-align: right;\n",
              "    }\n",
              "</style>\n",
              "<table border=\"1\" class=\"dataframe\">\n",
              "  <thead>\n",
              "    <tr style=\"text-align: right;\">\n",
              "      <th></th>\n",
              "      <th>Xco2</th>\n",
              "      <th>Latitude</th>\n",
              "      <th>Longitude</th>\n",
              "      <th>quality_flag</th>\n",
              "      <th>DateTime</th>\n",
              "      <th>Year</th>\n",
              "      <th>Month</th>\n",
              "      <th>Day</th>\n",
              "    </tr>\n",
              "  </thead>\n",
              "  <tbody>\n",
              "    <tr>\n",
              "      <th>0</th>\n",
              "      <td>399.74167</td>\n",
              "      <td>-73.16891</td>\n",
              "      <td>-152.27951</td>\n",
              "      <td>0</td>\n",
              "      <td>2018-01-01 00:59:28.370</td>\n",
              "      <td>2018</td>\n",
              "      <td>1</td>\n",
              "      <td>1</td>\n",
              "    </tr>\n",
              "    <tr>\n",
              "      <th>1</th>\n",
              "      <td>400.76410</td>\n",
              "      <td>-73.15197</td>\n",
              "      <td>-152.30045</td>\n",
              "      <td>0</td>\n",
              "      <td>2018-01-01 00:59:28.770</td>\n",
              "      <td>2018</td>\n",
              "      <td>1</td>\n",
              "      <td>1</td>\n",
              "    </tr>\n",
              "    <tr>\n",
              "      <th>2</th>\n",
              "      <td>399.90845</td>\n",
              "      <td>-73.15309</td>\n",
              "      <td>-152.36101</td>\n",
              "      <td>0</td>\n",
              "      <td>2018-01-01 00:59:28.780</td>\n",
              "      <td>2018</td>\n",
              "      <td>1</td>\n",
              "      <td>1</td>\n",
              "    </tr>\n",
              "  </tbody>\n",
              "</table>\n",
              "</div>"
            ],
            "text/plain": [
              "        Xco2  Latitude  Longitude  quality_flag                DateTime  Year  \\\n",
              "0  399.74167 -73.16891 -152.27951             0 2018-01-01 00:59:28.370  2018   \n",
              "1  400.76410 -73.15197 -152.30045             0 2018-01-01 00:59:28.770  2018   \n",
              "2  399.90845 -73.15309 -152.36101             0 2018-01-01 00:59:28.780  2018   \n",
              "\n",
              "   Month  Day  \n",
              "0      1    1  \n",
              "1      1    1  \n",
              "2      1    1  "
            ]
          },
          "execution_count": 7,
          "metadata": {},
          "output_type": "execute_result"
        }
      ],
      "source": [
        "df_2018.head(3)"
      ]
    },
    {
      "cell_type": "markdown",
      "id": "812653e9",
      "metadata": {
        "id": "812653e9"
      },
      "source": [
        "## Data cleaning:\n",
        "- Reducing the size of the files by rounding decimals"
      ]
    },
    {
      "cell_type": "code",
      "execution_count": null,
      "id": "1ec1183f",
      "metadata": {
        "id": "1ec1183f",
        "outputId": "bfe89bc1-cfcc-42f0-bdfd-db0477ede47d"
      },
      "outputs": [
        {
          "data": {
            "text/html": [
              "<div>\n",
              "<style scoped>\n",
              "    .dataframe tbody tr th:only-of-type {\n",
              "        vertical-align: middle;\n",
              "    }\n",
              "\n",
              "    .dataframe tbody tr th {\n",
              "        vertical-align: top;\n",
              "    }\n",
              "\n",
              "    .dataframe thead th {\n",
              "        text-align: right;\n",
              "    }\n",
              "</style>\n",
              "<table border=\"1\" class=\"dataframe\">\n",
              "  <thead>\n",
              "    <tr style=\"text-align: right;\">\n",
              "      <th></th>\n",
              "      <th>Xco2</th>\n",
              "      <th>Latitude</th>\n",
              "      <th>Longitude</th>\n",
              "      <th>quality_flag</th>\n",
              "      <th>DateTime</th>\n",
              "      <th>Year</th>\n",
              "      <th>Month</th>\n",
              "      <th>Day</th>\n",
              "    </tr>\n",
              "  </thead>\n",
              "  <tbody>\n",
              "    <tr>\n",
              "      <th>0</th>\n",
              "      <td>399.742</td>\n",
              "      <td>-73.169</td>\n",
              "      <td>-152.280</td>\n",
              "      <td>0</td>\n",
              "      <td>2018-01-01 00:59:28.370</td>\n",
              "      <td>2018</td>\n",
              "      <td>1</td>\n",
              "      <td>1</td>\n",
              "    </tr>\n",
              "    <tr>\n",
              "      <th>1</th>\n",
              "      <td>400.764</td>\n",
              "      <td>-73.152</td>\n",
              "      <td>-152.300</td>\n",
              "      <td>0</td>\n",
              "      <td>2018-01-01 00:59:28.770</td>\n",
              "      <td>2018</td>\n",
              "      <td>1</td>\n",
              "      <td>1</td>\n",
              "    </tr>\n",
              "    <tr>\n",
              "      <th>2</th>\n",
              "      <td>399.908</td>\n",
              "      <td>-73.153</td>\n",
              "      <td>-152.361</td>\n",
              "      <td>0</td>\n",
              "      <td>2018-01-01 00:59:28.780</td>\n",
              "      <td>2018</td>\n",
              "      <td>1</td>\n",
              "      <td>1</td>\n",
              "    </tr>\n",
              "  </tbody>\n",
              "</table>\n",
              "</div>"
            ],
            "text/plain": [
              "      Xco2  Latitude  Longitude  quality_flag                DateTime  Year  \\\n",
              "0  399.742   -73.169   -152.280             0 2018-01-01 00:59:28.370  2018   \n",
              "1  400.764   -73.152   -152.300             0 2018-01-01 00:59:28.770  2018   \n",
              "2  399.908   -73.153   -152.361             0 2018-01-01 00:59:28.780  2018   \n",
              "\n",
              "   Month  Day  \n",
              "0      1    1  \n",
              "1      1    1  \n",
              "2      1    1  "
            ]
          },
          "execution_count": 8,
          "metadata": {},
          "output_type": "execute_result"
        }
      ],
      "source": [
        "df_2018['Latitude']= df_2018['Latitude'].round(3)\n",
        "df_2018['Longitude']= df_2018['Longitude'].round(3)\n",
        "df_2018['Xco2']= df_2018['Xco2'].round(3)\n",
        "df_2018.head(3)"
      ]
    },
    {
      "cell_type": "markdown",
      "id": "c24afb99",
      "metadata": {
        "id": "c24afb99"
      },
      "source": [
        "# Generate FRAMES:\n",
        "- 1. Generate Frames on the specified directory (located inside basemap function)\n",
        "- 2. Using Library openCV to generate animation from from frames"
      ]
    },
    {
      "cell_type": "markdown",
      "id": "c9caa532",
      "metadata": {
        "id": "c9caa532"
      },
      "source": [
        "## PATH to file "
      ]
    },
    {
      "cell_type": "code",
      "execution_count": null,
      "id": "e2fdd12d",
      "metadata": {
        "id": "e2fdd12d"
      },
      "outputs": [],
      "source": [
        "#create a Folder 'frames' on the same directory to save frames\n",
        "\n",
        "current_directory= os.getcwd()\n",
        "frames_folder= os.path.join(current_directory, r'frames')\n",
        "\n",
        "if not os.path.exists(frames_folder):\n",
        "    os.makedirs(frames_folder)"
      ]
    },
    {
      "cell_type": "code",
      "execution_count": null,
      "id": "53968c90",
      "metadata": {
        "id": "53968c90"
      },
      "outputs": [],
      "source": [
        "def first_16_day_cycle(data, year): \n",
        "\n",
        "    # first 16 days\n",
        "    first_half= np.arange(1, 17)\n",
        "    #second 16 days\n",
        "    second_half= np.arange(17, 32)\n",
        "    \n",
        "    # months\n",
        "    month= ['January', 'February','March', 'April','May','June','July','August','September','October','November','December']\n",
        "\n",
        "    # total files\n",
        "    file_num = 0\n",
        "    \n",
        "    # repition of months\n",
        "    rep =0\n",
        "  \n",
        "    months_count= 0\n",
        "    for j in range(1, 13):\n",
        "\n",
        "\n",
        "        # for different months 1-12\n",
        "        vol_1= data[(data['Month']== j)]\n",
        "                \n",
        "        # for first 16 days\n",
        "        first_vol= vol_1 [ vol_1['Day'].isin(first_half)]\n",
        "        map_by_month(first_vol, str(year),month[rep], file_num)\n",
        "\n",
        "        \n",
        "        file_num +=1\n",
        "        # Second Frame: 16 day cycle (17-31)   \n",
        "        second_vol= vol_1 [ vol_1['Day'].isin(second_half)]\n",
        "        map_by_month( second_vol, str(year),month[rep], file_num )                 \n",
        "\n",
        "        \n",
        "        file_num +=1\n",
        "        # Third FRAME: full frame of the entire month\n",
        "        map_by_month(vol_1, str(year), month[rep], file_num)\n",
        "\n",
        "\n",
        "#        file num increments\n",
        "        file_num +=1\n",
        "\n",
        "        # next months\n",
        "        rep +=1\n",
        " "
      ]
    },
    {
      "cell_type": "markdown",
      "id": "b40c0c2b",
      "metadata": {
        "id": "b40c0c2b"
      },
      "source": [
        "# TESTING for one year"
      ]
    },
    {
      "cell_type": "code",
      "execution_count": null,
      "id": "d1d59b85",
      "metadata": {
        "id": "d1d59b85"
      },
      "outputs": [],
      "source": [
        "%%time\n",
        "first_16_day_cycle(df_2018, 2018)"
      ]
    },
    {
      "cell_type": "markdown",
      "id": "b012cc3f",
      "metadata": {
        "id": "b012cc3f"
      },
      "source": [
        "# Creating a GIF file format using the FRAMES above created\n",
        "* passing the PATH of frames created"
      ]
    },
    {
      "cell_type": "markdown",
      "id": "69a4590a",
      "metadata": {
        "id": "69a4590a"
      },
      "source": [
        "## Locate the path to FRAMES\n",
        "- Uses the frames created by basemap to generate an animation"
      ]
    },
    {
      "cell_type": "code",
      "execution_count": null,
      "id": "5caf3b24",
      "metadata": {
        "id": "5caf3b24"
      },
      "outputs": [],
      "source": [
        "import cv2\n",
        "import os\n",
        "from os.path import isfile, join\n",
        "import re\n",
        "import natsort\n",
        "from IPython.display import Video, HTML"
      ]
    },
    {
      "cell_type": "code",
      "execution_count": null,
      "id": "7ff8cb7a",
      "metadata": {
        "id": "7ff8cb7a"
      },
      "outputs": [],
      "source": [
        "def two_convert_to_mp4_a(pathIn, pathOut, fps, time):\n",
        "    \n",
        "    frame_arr= []\n",
        "    \n",
        "    image_folder = 'images'\n",
        "  #  video_name = 'video.avi'\n",
        "\n",
        "    images = [img for img in os.listdir(pathIn) if img.endswith(\".jpeg\")]\n",
        "    frame = cv2.imread(os.path.join(pathIn, images[0]))\n",
        "    height, width, layers = frame.shape\n",
        "\n",
        "    video = cv2.VideoWriter(pathOut, 0, 1, (width,height))\n",
        "\n",
        "    for image in images:\n",
        "        video.write(cv2.imread(os.path.join(pathIn, image)))\n",
        "\n",
        "    cv2.destroyAllWindows()\n",
        "    video.release()\n"
      ]
    },
    {
      "cell_type": "markdown",
      "id": "caef668e",
      "metadata": {
        "id": "caef668e"
      },
      "source": [
        "## Call the function to generate MP4 file\n",
        "- Function below will generate an animation by combining the frames\n",
        "- File name: oco2_anim_a"
      ]
    },
    {
      "cell_type": "code",
      "execution_count": null,
      "id": "8480b8e3",
      "metadata": {
        "id": "8480b8e3"
      },
      "outputs": [],
      "source": [
        "pathIn= 'frames/'\n",
        "pathOut= pathIn +'oco2_anim_a.mp4'\n",
        "fps= 1\n",
        "time= 1\n",
        "\n",
        "two_convert_to_mp4_a(pathIn, pathOut, fps, time)"
      ]
    },
    {
      "cell_type": "code",
      "execution_count": null,
      "id": "5bc420d9",
      "metadata": {
        "id": "5bc420d9"
      },
      "outputs": [],
      "source": [
        "Video('frames/oco2_anim_a.mp4', embed= True, width = 800, height= 500)"
      ]
    },
    {
      "cell_type": "code",
      "execution_count": null,
      "id": "071f2fc1",
      "metadata": {
        "id": "071f2fc1"
      },
      "outputs": [],
      "source": [
        ""
      ]
    }
  ],
  "metadata": {
    "kernelspec": {
      "display_name": "Python 3 (ipykernel)",
      "language": "python",
      "name": "python3"
    },
    "language_info": {
      "codemirror_mode": {
        "name": "ipython",
        "version": 3
      },
      "file_extension": ".py",
      "mimetype": "text/x-python",
      "name": "python",
      "nbconvert_exporter": "python",
      "pygments_lexer": "ipython3",
      "version": "3.9.7"
    },
    "colab": {
      "name": "OCO2_2018_csv_using_basemap_16_day_avg_using_OPENCV.ipynb",
      "provenance": [],
      "include_colab_link": true
    }
  },
  "nbformat": 4,
  "nbformat_minor": 5
}